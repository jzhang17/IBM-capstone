{
    "nbformat_minor": 1, 
    "cells": [
        {
            "source": "## Introduction \n\nThe city of Philadelphia has the highest rate of gentrification and income gap across the United States. In this project, I want to explore the correlation between neighborhoods median income compares to the functions of different neighborhoods. The correlation can help business stakeholders to make decisions on locations and the business and growth opportunities in different neighborhood clusters. For example, what business opportunities exist in high income neighborhoods compares to low income neighborhoods.\n\n## Data\n\nThe Foursquare location data is used to explore the functions of neighborhoods. The income data is scraped from websites with publicized data. The google Geocoding API is used to visualize the Foursquare data on a folium map. The neighborhoods are segmented into clusters and use a bar graph to verify the hypothesis. \n\nGeo-coding Zip code:\n```python\nlatitude = []\nlongitude = []\n\nfor add_LL in zip_codes:\n    url = 'https://maps.googleapis.com/maps/api/geocode/json?key={}&address={}'.format(API_key, add_LL)\n    geographical_data = response['results'][0]['geometry']['location'] # get geographical coordinates\n    response = requests.get(url).json()\n    latitudes = geographical_data['lat']\n    longitudes = geographical_data['lng']\n    latitude.append(latitudes)\n    longitude.append(longitudes)\n    print(url)\n    print(latitudes)\n```\n\n\n## Methodology\n\nThe neighborhoods are segmented into 5 clusters with random cluster size but each cluster serves the same function with similar residential and commercial establishment. Because the clusters' sizes are random, three out of five clusters has very small cluster size but the mean varies greatly from each other, yet with small standard diviation from the mean. The sample size for the two larger clusters is smaller than 30 so 2-sample-t-test is performed as inferential statistical testing to verify the hypothesis. The test is set to two-tailed test because it is unclear if one cluster's mean is biger than the other.  \n\nInferential statistical testing:\n```python\nfrom scipy import stats\n\n## Calculate the Standard Deviation\n#Calculate the variance to get the standard deviation\n\n#For unbiased max likelihood estimate we have to divide the var by N-1, and therefore the parameter ddof = 1\nvar_0 = grouped_transposed[0].var(ddof=1)\nvar_2 = grouped_transposed[2].var(ddof=1)\n\n#std deviation\ns = np.sqrt((var_0 + var_2)/2)\n\nt = (grouped_transposed[0].mean() - grouped_transposed[2].mean())/(s*np.sqrt(2/len(grouped_transposed[0])))\n\nf_test = 2*len(grouped_transposed[0]) - 2\n\n#p-value after comparison with the t \np = 1 - stats.t.cdf(t,df=df_test)\n\n\nprint(\"t = \" + str(t))\nprint(\"p = \" + str(2*p))\n#Note that we multiply the p value by 2 because its a two tail t-test\n```\n\nOutput:\n```\nt = 2.19200477138\np = 0.031019029026\n```\n\n## Results\n\nBecause the p-value is less than 0.05, we can conclude that cluster 0 on average has higher median income than cluster 2 with 95% of confidence intercal. Therefore, the hypothesis of median income has effect on neighborhood functions is verified. \n\n## Discussion\n\nWith higher income and commercial functions of the neighborhoods in cluster 0. The recommendation can be made that cluster 0 is more suitable for high-end commercial establishment, while residential bussiness establishments like restraunt and \n\n## Conclusion \n\nGentrification is one of the most significant social phenomenon in the city of Philadelphia because it directly affects city development and wealth distribution, and the issue sometimes even implicates racial integration in the modern society. With the help of modern computing technology and publicly available data, we can get insight from the phenomenon to discover the correlation between wealth distribution and neighborhoods\u2019 functions. With this correlation we can get business insights city development. ", 
            "cell_type": "markdown", 
            "metadata": {
                "collapsed": true
            }
        }, 
        {
            "execution_count": null, 
            "cell_type": "code", 
            "metadata": {}, 
            "outputs": [], 
            "source": ""
        }
    ], 
    "metadata": {
        "kernelspec": {
            "display_name": "Python 3.5", 
            "name": "python3", 
            "language": "python"
        }, 
        "language_info": {
            "mimetype": "text/x-python", 
            "nbconvert_exporter": "python", 
            "version": "3.5.5", 
            "name": "python", 
            "file_extension": ".py", 
            "pygments_lexer": "ipython3", 
            "codemirror_mode": {
                "version": 3, 
                "name": "ipython"
            }
        }
    }, 
    "nbformat": 4
}